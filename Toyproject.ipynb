{
  "cells": [
    {
      "cell_type": "markdown",
      "metadata": {
        "id": "view-in-github",
        "colab_type": "text"
      },
      "source": [
        "<a href=\"https://colab.research.google.com/github/yj2213/Toy_Project/blob/main/Toyproject.ipynb\" target=\"_parent\"><img src=\"https://colab.research.google.com/assets/colab-badge.svg\" alt=\"Open In Colab\"/></a>"
      ]
    },
    {
      "cell_type": "code",
      "execution_count": null,
      "metadata": {
        "colab": {
          "base_uri": "https://localhost:8080/"
        },
        "id": "77wjtFitvHxG",
        "outputId": "56ec719a-6673-4bda-a4de-6516f3adccf5"
      },
      "outputs": [
        {
          "name": "stdout",
          "output_type": "stream",
          "text": [
            "Collecting torchinfo\n",
            "  Downloading torchinfo-1.8.0-py3-none-any.whl.metadata (21 kB)\n",
            "Downloading torchinfo-1.8.0-py3-none-any.whl (23 kB)\n",
            "Installing collected packages: torchinfo\n",
            "Successfully installed torchinfo-1.8.0\n"
          ]
        }
      ],
      "source": [
        "import os\n",
        "import numpy as np\n",
        "import pandas as pd\n",
        "from PIL import Image\n",
        "import matplotlib.pyplot as plt\n",
        "\n",
        "import torch\n",
        "from torch import nn as nn\n",
        "from torch.utils.data import Dataset, DataLoader\n",
        "\n",
        "import torchvision\n",
        "from torchvision import transforms\n",
        "\n",
        "!pip install torchinfo\n",
        "import torchinfo\n",
        "from torchinfo import summary\n",
        "\n",
        "from sklearn.metrics import accuracy_score, classification_report, confusion_matrix"
      ]
    },
    {
      "cell_type": "code",
      "execution_count": null,
      "metadata": {
        "id": "iZnpALPwvXm2"
      },
      "outputs": [],
      "source": [
        "# Raw dataset\n",
        "class ImageDataset(Dataset):\n",
        "    def __init__(self, root_dir, transform=None):\n",
        "        self.root_dir = root_dir\n",
        "        self.transform = transform\n",
        "        self.images = []\n",
        "        self.labels = []\n",
        "        self.class_labels = {}\n",
        "\n",
        "        # Create a mapping of class labels to integers\n",
        "        self.class_labels = {}\n",
        "        class_idx = 0\n",
        "\n",
        "        # Iterate over sub-directories\n",
        "        for class_dir in os.listdir(self.root_dir):\n",
        "            class_dir_path = os.path.join(self.root_dir, class_dir)\n",
        "            if os.path.isdir(class_dir_path):\n",
        "                self.class_labels[class_dir] = class_idx\n",
        "                class_idx += 1\n",
        "\n",
        "                # Iterate over images in the sub-directory\n",
        "                for img_filename in os.listdir(class_dir_path):\n",
        "                    if img_filename.endswith(\".jpg\"):\n",
        "                        img_path = os.path.join(class_dir_path, img_filename)\n",
        "                        self.images.append(img_path)\n",
        "                        self.labels.append(self.class_labels[class_dir])\n",
        "\n",
        "    def __len__(self):\n",
        "        return len(self.images)\n",
        "\n",
        "    def __getitem__(self, idx):\n",
        "        image = Image.open(self.images[idx])\n",
        "        label = self.labels[idx]\n",
        "\n",
        "        # 그레이스케일 이미지가 있는지 확인. 있으면 -> 색상 채널 추가\n",
        "        if image.mode == \"L\":\n",
        "            image = Image.merge(\"RGB\", (image, image, image))\n",
        "        #\"transform이 있는지 확인. 있으면 -> transform(image)\"\n",
        "        if self.transform:\n",
        "            image = self.transform(image)\n",
        "\n",
        "        return image, label"
      ]
    },
    {
      "cell_type": "code",
      "execution_count": null,
      "metadata": {
        "colab": {
          "base_uri": "https://localhost:8080/"
        },
        "id": "Q10JzXoO3uhf",
        "outputId": "9ddf4fe2-7973-425e-c7f9-6b6532db29c4"
      },
      "outputs": [
        {
          "name": "stdout",
          "output_type": "stream",
          "text": [
            "Dataset URL: https://www.kaggle.com/datasets/gpiosenka/sports-classification\n",
            "License(s): CC0-1.0\n",
            "Downloading sports-classification.zip to /content\n",
            " 98% 415M/424M [00:04<00:00, 98.7MB/s]\n",
            "100% 424M/424M [00:04<00:00, 94.6MB/s]\n"
          ]
        }
      ],
      "source": [
        "! kaggle datasets download -d gpiosenka/sports-classification"
      ]
    },
    {
      "cell_type": "code",
      "execution_count": null,
      "metadata": {
        "id": "FBxQX1ft4Bog"
      },
      "outputs": [],
      "source": [
        "import zipfile\n",
        "\n",
        "zip_file = './sports-classification.zip'\n",
        "path_to_extract = './kaggle/input/sports-classification/'\n",
        "\n",
        "with zipfile.ZipFile(zip_file, 'r') as zip_ref:\n",
        "    zip_ref.extractall(path_to_extract)\n",
        "\n",
        "import os\n",
        "os.remove(zip_file)"
      ]
    },
    {
      "cell_type": "code",
      "execution_count": null,
      "metadata": {
        "id": "6XZt7br1wWsG"
      },
      "outputs": [],
      "source": [
        "def model_dataloder(weights, transform):\n",
        "    \"\"\"\n",
        "    Will return 3 pytorch datalaoder\n",
        "    \"\"\"\n",
        "    weights = weights\n",
        "\n",
        "    data_folder = \"./kaggle/input/sports-classification\"\n",
        "\n",
        "    train_folder = data_folder + \"/train\"\n",
        "    val_folder = data_folder + \"/valid\"\n",
        "    test_folder = data_folder + \"/test\"\n",
        "\n",
        "    # pytorch dataset\n",
        "    train_dataset = ImageDataset(train_folder, transform = transform)\n",
        "    val_dataset = ImageDataset(val_folder, transform = transform)\n",
        "    test_dataset = ImageDataset(test_folder, transform = transform)\n",
        "\n",
        "    # pytorch dataloader\n",
        "    train_dataloader = DataLoader(dataset = train_dataset, batch_size = 32, shuffle = True)\n",
        "    val_dataloader = DataLoader(dataset = val_dataset, batch_size = 32, shuffle = False)\n",
        "    test_dataloader = DataLoader(dataset = test_dataset, batch_size = 32, shuffle = False)\n",
        "\n",
        "    return train_dataloader, val_dataloader, test_dataloader"
      ]
    },
    {
      "cell_type": "code",
      "execution_count": null,
      "metadata": {
        "id": "56aT9FEb7MyG"
      },
      "outputs": [],
      "source": [
        "# Train -> train_loss, train_acc\n",
        "def train (model, dataloader, loss_fn, optimizer, device):\n",
        "    train_loss, train_acc = 0, 0\n",
        "\n",
        "    model.to(device)\n",
        "    model.train()\n",
        "\n",
        "    for batch, (x, y) in enumerate (dataloader):\n",
        "        x, y = x.to(device), y.to(device)\n",
        "\n",
        "        train_pred = model(x)\n",
        "\n",
        "        loss = loss_fn(train_pred, y)\n",
        "        train_loss = train_loss + loss.item()\n",
        "\n",
        "        optimizer.zero_grad()\n",
        "        loss.backward()\n",
        "        optimizer.step()\n",
        "\n",
        "        train_pred_label = torch.argmax(torch.softmax(train_pred, dim = 1), dim = 1)\n",
        "        train_acc = train_acc + (train_pred_label == y).sum().item() / len(train_pred)\n",
        "\n",
        "    train_loss = train_loss / len(dataloader)\n",
        "    train_acc = train_acc / len(dataloader)\n",
        "\n",
        "    return train_loss, train_acc"
      ]
    },
    {
      "cell_type": "code",
      "execution_count": null,
      "metadata": {
        "id": "O5Og3gkgwe82"
      },
      "outputs": [],
      "source": [
        "# Val -> val_loss, val_acc\n",
        "def val (model, dataloader, loss_fn, device):\n",
        "    val_loss, val_acc = 0, 0\n",
        "\n",
        "    model.to(device)\n",
        "    model.eval()\n",
        "\n",
        "    with torch.inference_mode():\n",
        "        for batch, (x, y) in enumerate(dataloader):\n",
        "            x, y = x.to(device), y.to(device)\n",
        "\n",
        "            val_pred = model(x)\n",
        "\n",
        "            loss = loss_fn(val_pred, y)\n",
        "            val_loss = val_loss + loss.item()\n",
        "\n",
        "            val_pred_label = torch.argmax(torch.softmax(val_pred, dim = 1), dim = 1)\n",
        "            val_acc = val_acc + (val_pred_label == y).sum().item() / len(val_pred)\n",
        "\n",
        "        val_loss = val_loss / len(dataloader)\n",
        "        val_acc = val_acc / len(dataloader)\n",
        "\n",
        "        return val_loss, val_acc"
      ]
    },
    {
      "cell_type": "code",
      "execution_count": null,
      "metadata": {
        "id": "EzVFnnYYwuBb"
      },
      "outputs": [],
      "source": [
        "import copy\n",
        "from tqdm import tqdm\n",
        "def training_loop(model, train_dataloader, val_dataloader, device, epochs, patience):\n",
        "    # empty dict to store results\n",
        "    results = {\"train_loss\": [], \"train_acc\": [], \"val_loss\": [], \"val_acc\": []}\n",
        "\n",
        "    # hardcoded loss function and optimizer\n",
        "    loss_fn = nn.CrossEntropyLoss()\n",
        "    optimizer = torch.optim.Adam(model.parameters(), lr=0.0005)\n",
        "\n",
        "    best_val_loss = float(\"inf\")\n",
        "    num_no_improvement = 0\n",
        "\n",
        "    # loop through epochs\n",
        "    for epoch in range(epochs):\n",
        "        print(f\"\\nEpoch {epoch + 1}/{epochs}\")\n",
        "\n",
        "        # Training phase with tqdm progress bar\n",
        "        train_loader = tqdm(train_dataloader, desc=\"Training\", leave=False)\n",
        "        train_loss, train_acc = train(\n",
        "            model=model,\n",
        "            dataloader=train_loader,\n",
        "            loss_fn=loss_fn,\n",
        "            optimizer=optimizer,\n",
        "            device=device\n",
        "        )\n",
        "\n",
        "        # Validation phase with tqdm progress bar\n",
        "        val_loader = tqdm(val_dataloader, desc=\"Validation\", leave=False)\n",
        "        val_loss, val_acc = val(\n",
        "            model=model,\n",
        "            dataloader=val_loader,\n",
        "            loss_fn=loss_fn,\n",
        "            device=device\n",
        "        )\n",
        "\n",
        "        # print results for each epoch\n",
        "        print(f\"Train loss: {train_loss:.4f} | Train accuracy: {(train_acc * 100):.3f}%\")\n",
        "        print(f\"Val loss: {val_loss:.4f} | Val accuracy: {(val_acc * 100):.3f}%\")\n",
        "\n",
        "        # record results for each epoch\n",
        "        results[\"train_loss\"].append(train_loss)\n",
        "        results[\"train_acc\"].append(train_acc)\n",
        "        results[\"val_loss\"].append(val_loss)\n",
        "        results[\"val_acc\"].append(val_acc)\n",
        "\n",
        "        # check for early stopping condition\n",
        "        mean_val_loss = np.mean(results[\"val_loss\"])\n",
        "        best_val_loss = float(\"inf\")\n",
        "        num_no_improvement = 0\n",
        "        if np.mean(mean_val_loss > best_val_loss):\n",
        "            best_val_loss = mean_val_loss\n",
        "\n",
        "            model_state_dict = model.state_dict()\n",
        "            best_model = copy.deepcopy(model)\n",
        "            best_model.load_state_dict(model_state_dict)\n",
        "        else:\n",
        "            num_no_improvement +=1\n",
        "\n",
        "        if num_no_improvement == patience:\n",
        "            break\n",
        "\n",
        "    # Plot results after early stopping\n",
        "    plt.figure(figsize=(12, 6))\n",
        "    plt.subplot(1, 2, 1)\n",
        "    plt.title(\"Loss\")\n",
        "    plt.plot(results[\"train_loss\"], label=\"Train loss\")\n",
        "    plt.plot(results[\"val_loss\"], label=\"Val loss\")\n",
        "    plt.legend()\n",
        "\n",
        "    plt.subplot(1, 2, 2)\n",
        "    plt.title(\"Accuracy\")\n",
        "    plt.plot(results[\"train_acc\"], label=\"Train accuracy\")\n",
        "    plt.plot(results[\"val_acc\"], label=\"Val accuracy\")\n",
        "    plt.legend()\n",
        "\n",
        "    plt.show()\n",
        "\n",
        "    return results\n"
      ]
    },
    {
      "cell_type": "markdown",
      "metadata": {
        "id": "7WPNPrlGxlpA"
      },
      "source": [
        "RESNET50"
      ]
    },
    {
      "cell_type": "code",
      "execution_count": null,
      "metadata": {
        "id": "B-RRKA1Cwyaa"
      },
      "outputs": [],
      "source": [
        "resnet_weight = torchvision.models.ResNet50_Weights.DEFAULT\n",
        "\n",
        "resnet_model = torchvision.models.resnet50(weights = resnet_weight)\n",
        "\n",
        "for param in resnet_model.parameters():\n",
        "    param.requires_grad = False"
      ]
    },
    {
      "cell_type": "code",
      "execution_count": null,
      "metadata": {
        "id": "b4mWLawDw2nw"
      },
      "outputs": [],
      "source": [
        "# Custom output layer\n",
        "# resnet_model.fc\n",
        "\n",
        "custom_fc = nn.Sequential(\n",
        "    nn.ReLU(),\n",
        "    nn.Dropout(p = 0.5),\n",
        "    nn.Linear(1000, 100))\n",
        "\n",
        "resnet_model.fc = nn.Sequential(\n",
        "    resnet_model.fc,\n",
        "    custom_fc\n",
        ")"
      ]
    },
    {
      "cell_type": "code",
      "execution_count": null,
      "metadata": {
        "colab": {
          "base_uri": "https://localhost:8080/"
        },
        "id": "DbSe0rCLw47W",
        "outputId": "25455503-6c23-4dfa-d989-ab0b6ac70733"
      },
      "outputs": [
        {
          "data": {
            "text/plain": [
              "=====================================================================================\n",
              "Layer (type:depth-idx)                   Output Shape    Param #         Trainable\n",
              "=====================================================================================\n",
              "ResNet                                   [1, 100]        --              Partial\n",
              "├─Conv2d: 1-1                            [1, 64, 122, 122] (9,408)         False\n",
              "├─BatchNorm2d: 1-2                       [1, 64, 122, 122] (128)           False\n",
              "├─ReLU: 1-3                              [1, 64, 122, 122] --              --\n",
              "├─MaxPool2d: 1-4                         [1, 64, 61, 61] --              --\n",
              "├─Sequential: 1-5                        [1, 256, 61, 61] --              False\n",
              "│    └─Bottleneck: 2-1                   [1, 256, 61, 61] --              False\n",
              "│    │    └─Conv2d: 3-1                  [1, 64, 61, 61] (4,096)         False\n",
              "│    │    └─BatchNorm2d: 3-2             [1, 64, 61, 61] (128)           False\n",
              "│    │    └─ReLU: 3-3                    [1, 64, 61, 61] --              --\n",
              "│    │    └─Conv2d: 3-4                  [1, 64, 61, 61] (36,864)        False\n",
              "│    │    └─BatchNorm2d: 3-5             [1, 64, 61, 61] (128)           False\n",
              "│    │    └─ReLU: 3-6                    [1, 64, 61, 61] --              --\n",
              "│    │    └─Conv2d: 3-7                  [1, 256, 61, 61] (16,384)        False\n",
              "│    │    └─BatchNorm2d: 3-8             [1, 256, 61, 61] (512)           False\n",
              "│    │    └─Sequential: 3-9              [1, 256, 61, 61] (16,896)        False\n",
              "│    │    └─ReLU: 3-10                   [1, 256, 61, 61] --              --\n",
              "│    └─Bottleneck: 2-2                   [1, 256, 61, 61] --              False\n",
              "│    │    └─Conv2d: 3-11                 [1, 64, 61, 61] (16,384)        False\n",
              "│    │    └─BatchNorm2d: 3-12            [1, 64, 61, 61] (128)           False\n",
              "│    │    └─ReLU: 3-13                   [1, 64, 61, 61] --              --\n",
              "│    │    └─Conv2d: 3-14                 [1, 64, 61, 61] (36,864)        False\n",
              "│    │    └─BatchNorm2d: 3-15            [1, 64, 61, 61] (128)           False\n",
              "│    │    └─ReLU: 3-16                   [1, 64, 61, 61] --              --\n",
              "│    │    └─Conv2d: 3-17                 [1, 256, 61, 61] (16,384)        False\n",
              "│    │    └─BatchNorm2d: 3-18            [1, 256, 61, 61] (512)           False\n",
              "│    │    └─ReLU: 3-19                   [1, 256, 61, 61] --              --\n",
              "│    └─Bottleneck: 2-3                   [1, 256, 61, 61] --              False\n",
              "│    │    └─Conv2d: 3-20                 [1, 64, 61, 61] (16,384)        False\n",
              "│    │    └─BatchNorm2d: 3-21            [1, 64, 61, 61] (128)           False\n",
              "│    │    └─ReLU: 3-22                   [1, 64, 61, 61] --              --\n",
              "│    │    └─Conv2d: 3-23                 [1, 64, 61, 61] (36,864)        False\n",
              "│    │    └─BatchNorm2d: 3-24            [1, 64, 61, 61] (128)           False\n",
              "│    │    └─ReLU: 3-25                   [1, 64, 61, 61] --              --\n",
              "│    │    └─Conv2d: 3-26                 [1, 256, 61, 61] (16,384)        False\n",
              "│    │    └─BatchNorm2d: 3-27            [1, 256, 61, 61] (512)           False\n",
              "│    │    └─ReLU: 3-28                   [1, 256, 61, 61] --              --\n",
              "├─Sequential: 1-6                        [1, 512, 31, 31] --              False\n",
              "│    └─Bottleneck: 2-4                   [1, 512, 31, 31] --              False\n",
              "│    │    └─Conv2d: 3-29                 [1, 128, 61, 61] (32,768)        False\n",
              "│    │    └─BatchNorm2d: 3-30            [1, 128, 61, 61] (256)           False\n",
              "│    │    └─ReLU: 3-31                   [1, 128, 61, 61] --              --\n",
              "│    │    └─Conv2d: 3-32                 [1, 128, 31, 31] (147,456)       False\n",
              "│    │    └─BatchNorm2d: 3-33            [1, 128, 31, 31] (256)           False\n",
              "│    │    └─ReLU: 3-34                   [1, 128, 31, 31] --              --\n",
              "│    │    └─Conv2d: 3-35                 [1, 512, 31, 31] (65,536)        False\n",
              "│    │    └─BatchNorm2d: 3-36            [1, 512, 31, 31] (1,024)         False\n",
              "│    │    └─Sequential: 3-37             [1, 512, 31, 31] (132,096)       False\n",
              "│    │    └─ReLU: 3-38                   [1, 512, 31, 31] --              --\n",
              "│    └─Bottleneck: 2-5                   [1, 512, 31, 31] --              False\n",
              "│    │    └─Conv2d: 3-39                 [1, 128, 31, 31] (65,536)        False\n",
              "│    │    └─BatchNorm2d: 3-40            [1, 128, 31, 31] (256)           False\n",
              "│    │    └─ReLU: 3-41                   [1, 128, 31, 31] --              --\n",
              "│    │    └─Conv2d: 3-42                 [1, 128, 31, 31] (147,456)       False\n",
              "│    │    └─BatchNorm2d: 3-43            [1, 128, 31, 31] (256)           False\n",
              "│    │    └─ReLU: 3-44                   [1, 128, 31, 31] --              --\n",
              "│    │    └─Conv2d: 3-45                 [1, 512, 31, 31] (65,536)        False\n",
              "│    │    └─BatchNorm2d: 3-46            [1, 512, 31, 31] (1,024)         False\n",
              "│    │    └─ReLU: 3-47                   [1, 512, 31, 31] --              --\n",
              "│    └─Bottleneck: 2-6                   [1, 512, 31, 31] --              False\n",
              "│    │    └─Conv2d: 3-48                 [1, 128, 31, 31] (65,536)        False\n",
              "│    │    └─BatchNorm2d: 3-49            [1, 128, 31, 31] (256)           False\n",
              "│    │    └─ReLU: 3-50                   [1, 128, 31, 31] --              --\n",
              "│    │    └─Conv2d: 3-51                 [1, 128, 31, 31] (147,456)       False\n",
              "│    │    └─BatchNorm2d: 3-52            [1, 128, 31, 31] (256)           False\n",
              "│    │    └─ReLU: 3-53                   [1, 128, 31, 31] --              --\n",
              "│    │    └─Conv2d: 3-54                 [1, 512, 31, 31] (65,536)        False\n",
              "│    │    └─BatchNorm2d: 3-55            [1, 512, 31, 31] (1,024)         False\n",
              "│    │    └─ReLU: 3-56                   [1, 512, 31, 31] --              --\n",
              "│    └─Bottleneck: 2-7                   [1, 512, 31, 31] --              False\n",
              "│    │    └─Conv2d: 3-57                 [1, 128, 31, 31] (65,536)        False\n",
              "│    │    └─BatchNorm2d: 3-58            [1, 128, 31, 31] (256)           False\n",
              "│    │    └─ReLU: 3-59                   [1, 128, 31, 31] --              --\n",
              "│    │    └─Conv2d: 3-60                 [1, 128, 31, 31] (147,456)       False\n",
              "│    │    └─BatchNorm2d: 3-61            [1, 128, 31, 31] (256)           False\n",
              "│    │    └─ReLU: 3-62                   [1, 128, 31, 31] --              --\n",
              "│    │    └─Conv2d: 3-63                 [1, 512, 31, 31] (65,536)        False\n",
              "│    │    └─BatchNorm2d: 3-64            [1, 512, 31, 31] (1,024)         False\n",
              "│    │    └─ReLU: 3-65                   [1, 512, 31, 31] --              --\n",
              "├─Sequential: 1-7                        [1, 1024, 16, 16] --              False\n",
              "│    └─Bottleneck: 2-8                   [1, 1024, 16, 16] --              False\n",
              "│    │    └─Conv2d: 3-66                 [1, 256, 31, 31] (131,072)       False\n",
              "│    │    └─BatchNorm2d: 3-67            [1, 256, 31, 31] (512)           False\n",
              "│    │    └─ReLU: 3-68                   [1, 256, 31, 31] --              --\n",
              "│    │    └─Conv2d: 3-69                 [1, 256, 16, 16] (589,824)       False\n",
              "│    │    └─BatchNorm2d: 3-70            [1, 256, 16, 16] (512)           False\n",
              "│    │    └─ReLU: 3-71                   [1, 256, 16, 16] --              --\n",
              "│    │    └─Conv2d: 3-72                 [1, 1024, 16, 16] (262,144)       False\n",
              "│    │    └─BatchNorm2d: 3-73            [1, 1024, 16, 16] (2,048)         False\n",
              "│    │    └─Sequential: 3-74             [1, 1024, 16, 16] (526,336)       False\n",
              "│    │    └─ReLU: 3-75                   [1, 1024, 16, 16] --              --\n",
              "│    └─Bottleneck: 2-9                   [1, 1024, 16, 16] --              False\n",
              "│    │    └─Conv2d: 3-76                 [1, 256, 16, 16] (262,144)       False\n",
              "│    │    └─BatchNorm2d: 3-77            [1, 256, 16, 16] (512)           False\n",
              "│    │    └─ReLU: 3-78                   [1, 256, 16, 16] --              --\n",
              "│    │    └─Conv2d: 3-79                 [1, 256, 16, 16] (589,824)       False\n",
              "│    │    └─BatchNorm2d: 3-80            [1, 256, 16, 16] (512)           False\n",
              "│    │    └─ReLU: 3-81                   [1, 256, 16, 16] --              --\n",
              "│    │    └─Conv2d: 3-82                 [1, 1024, 16, 16] (262,144)       False\n",
              "│    │    └─BatchNorm2d: 3-83            [1, 1024, 16, 16] (2,048)         False\n",
              "│    │    └─ReLU: 3-84                   [1, 1024, 16, 16] --              --\n",
              "│    └─Bottleneck: 2-10                  [1, 1024, 16, 16] --              False\n",
              "│    │    └─Conv2d: 3-85                 [1, 256, 16, 16] (262,144)       False\n",
              "│    │    └─BatchNorm2d: 3-86            [1, 256, 16, 16] (512)           False\n",
              "│    │    └─ReLU: 3-87                   [1, 256, 16, 16] --              --\n",
              "│    │    └─Conv2d: 3-88                 [1, 256, 16, 16] (589,824)       False\n",
              "│    │    └─BatchNorm2d: 3-89            [1, 256, 16, 16] (512)           False\n",
              "│    │    └─ReLU: 3-90                   [1, 256, 16, 16] --              --\n",
              "│    │    └─Conv2d: 3-91                 [1, 1024, 16, 16] (262,144)       False\n",
              "│    │    └─BatchNorm2d: 3-92            [1, 1024, 16, 16] (2,048)         False\n",
              "│    │    └─ReLU: 3-93                   [1, 1024, 16, 16] --              --\n",
              "│    └─Bottleneck: 2-11                  [1, 1024, 16, 16] --              False\n",
              "│    │    └─Conv2d: 3-94                 [1, 256, 16, 16] (262,144)       False\n",
              "│    │    └─BatchNorm2d: 3-95            [1, 256, 16, 16] (512)           False\n",
              "│    │    └─ReLU: 3-96                   [1, 256, 16, 16] --              --\n",
              "│    │    └─Conv2d: 3-97                 [1, 256, 16, 16] (589,824)       False\n",
              "│    │    └─BatchNorm2d: 3-98            [1, 256, 16, 16] (512)           False\n",
              "│    │    └─ReLU: 3-99                   [1, 256, 16, 16] --              --\n",
              "│    │    └─Conv2d: 3-100                [1, 1024, 16, 16] (262,144)       False\n",
              "│    │    └─BatchNorm2d: 3-101           [1, 1024, 16, 16] (2,048)         False\n",
              "│    │    └─ReLU: 3-102                  [1, 1024, 16, 16] --              --\n",
              "│    └─Bottleneck: 2-12                  [1, 1024, 16, 16] --              False\n",
              "│    │    └─Conv2d: 3-103                [1, 256, 16, 16] (262,144)       False\n",
              "│    │    └─BatchNorm2d: 3-104           [1, 256, 16, 16] (512)           False\n",
              "│    │    └─ReLU: 3-105                  [1, 256, 16, 16] --              --\n",
              "│    │    └─Conv2d: 3-106                [1, 256, 16, 16] (589,824)       False\n",
              "│    │    └─BatchNorm2d: 3-107           [1, 256, 16, 16] (512)           False\n",
              "│    │    └─ReLU: 3-108                  [1, 256, 16, 16] --              --\n",
              "│    │    └─Conv2d: 3-109                [1, 1024, 16, 16] (262,144)       False\n",
              "│    │    └─BatchNorm2d: 3-110           [1, 1024, 16, 16] (2,048)         False\n",
              "│    │    └─ReLU: 3-111                  [1, 1024, 16, 16] --              --\n",
              "│    └─Bottleneck: 2-13                  [1, 1024, 16, 16] --              False\n",
              "│    │    └─Conv2d: 3-112                [1, 256, 16, 16] (262,144)       False\n",
              "│    │    └─BatchNorm2d: 3-113           [1, 256, 16, 16] (512)           False\n",
              "│    │    └─ReLU: 3-114                  [1, 256, 16, 16] --              --\n",
              "│    │    └─Conv2d: 3-115                [1, 256, 16, 16] (589,824)       False\n",
              "│    │    └─BatchNorm2d: 3-116           [1, 256, 16, 16] (512)           False\n",
              "│    │    └─ReLU: 3-117                  [1, 256, 16, 16] --              --\n",
              "│    │    └─Conv2d: 3-118                [1, 1024, 16, 16] (262,144)       False\n",
              "│    │    └─BatchNorm2d: 3-119           [1, 1024, 16, 16] (2,048)         False\n",
              "│    │    └─ReLU: 3-120                  [1, 1024, 16, 16] --              --\n",
              "├─Sequential: 1-8                        [1, 2048, 8, 8] --              False\n",
              "│    └─Bottleneck: 2-14                  [1, 2048, 8, 8] --              False\n",
              "│    │    └─Conv2d: 3-121                [1, 512, 16, 16] (524,288)       False\n",
              "│    │    └─BatchNorm2d: 3-122           [1, 512, 16, 16] (1,024)         False\n",
              "│    │    └─ReLU: 3-123                  [1, 512, 16, 16] --              --\n",
              "│    │    └─Conv2d: 3-124                [1, 512, 8, 8]  (2,359,296)     False\n",
              "│    │    └─BatchNorm2d: 3-125           [1, 512, 8, 8]  (1,024)         False\n",
              "│    │    └─ReLU: 3-126                  [1, 512, 8, 8]  --              --\n",
              "│    │    └─Conv2d: 3-127                [1, 2048, 8, 8] (1,048,576)     False\n",
              "│    │    └─BatchNorm2d: 3-128           [1, 2048, 8, 8] (4,096)         False\n",
              "│    │    └─Sequential: 3-129            [1, 2048, 8, 8] (2,101,248)     False\n",
              "│    │    └─ReLU: 3-130                  [1, 2048, 8, 8] --              --\n",
              "│    └─Bottleneck: 2-15                  [1, 2048, 8, 8] --              False\n",
              "│    │    └─Conv2d: 3-131                [1, 512, 8, 8]  (1,048,576)     False\n",
              "│    │    └─BatchNorm2d: 3-132           [1, 512, 8, 8]  (1,024)         False\n",
              "│    │    └─ReLU: 3-133                  [1, 512, 8, 8]  --              --\n",
              "│    │    └─Conv2d: 3-134                [1, 512, 8, 8]  (2,359,296)     False\n",
              "│    │    └─BatchNorm2d: 3-135           [1, 512, 8, 8]  (1,024)         False\n",
              "│    │    └─ReLU: 3-136                  [1, 512, 8, 8]  --              --\n",
              "│    │    └─Conv2d: 3-137                [1, 2048, 8, 8] (1,048,576)     False\n",
              "│    │    └─BatchNorm2d: 3-138           [1, 2048, 8, 8] (4,096)         False\n",
              "│    │    └─ReLU: 3-139                  [1, 2048, 8, 8] --              --\n",
              "│    └─Bottleneck: 2-16                  [1, 2048, 8, 8] --              False\n",
              "│    │    └─Conv2d: 3-140                [1, 512, 8, 8]  (1,048,576)     False\n",
              "│    │    └─BatchNorm2d: 3-141           [1, 512, 8, 8]  (1,024)         False\n",
              "│    │    └─ReLU: 3-142                  [1, 512, 8, 8]  --              --\n",
              "│    │    └─Conv2d: 3-143                [1, 512, 8, 8]  (2,359,296)     False\n",
              "│    │    └─BatchNorm2d: 3-144           [1, 512, 8, 8]  (1,024)         False\n",
              "│    │    └─ReLU: 3-145                  [1, 512, 8, 8]  --              --\n",
              "│    │    └─Conv2d: 3-146                [1, 2048, 8, 8] (1,048,576)     False\n",
              "│    │    └─BatchNorm2d: 3-147           [1, 2048, 8, 8] (4,096)         False\n",
              "│    │    └─ReLU: 3-148                  [1, 2048, 8, 8] --              --\n",
              "├─AdaptiveAvgPool2d: 1-9                 [1, 2048, 1, 1] --              --\n",
              "├─Sequential: 1-10                       [1, 100]        --              Partial\n",
              "│    └─Linear: 2-17                      [1, 1000]       (2,049,000)     False\n",
              "│    └─Sequential: 2-18                  [1, 100]        --              True\n",
              "│    │    └─ReLU: 3-149                  [1, 1000]       --              --\n",
              "│    │    └─Dropout: 3-150               [1, 1000]       --              --\n",
              "│    │    └─Linear: 3-151                [1, 100]        100,100         True\n",
              "=====================================================================================\n",
              "Total params: 25,657,132\n",
              "Trainable params: 100,100\n",
              "Non-trainable params: 25,557,032\n",
              "Total mult-adds (G): 5.15\n",
              "=====================================================================================\n",
              "Input size (MB): 0.71\n",
              "Forward/backward pass size (MB): 217.77\n",
              "Params size (MB): 102.63\n",
              "Estimated Total Size (MB): 321.12\n",
              "====================================================================================="
            ]
          },
          "execution_count": 11,
          "metadata": {},
          "output_type": "execute_result"
        }
      ],
      "source": [
        "# Check model info\n",
        "summary(resnet_model, input_size = (1, 3, 244, 244), col_names = [\"output_size\", \"num_params\", \"trainable\"], col_width = 15)"
      ]
    },
    {
      "cell_type": "markdown",
      "metadata": {
        "id": "3MRGxbNOxxtI"
      },
      "source": [
        "Train models"
      ]
    },
    {
      "cell_type": "code",
      "execution_count": null,
      "metadata": {
        "id": "CNY1d0rqw7du"
      },
      "outputs": [],
      "source": [
        "# Device\n",
        "device = \"cuda\" if torch.cuda.is_available() else \"cpu\"\n",
        "# hardcode :\n",
        "# loss_fn -> CrossEntropyLoss\n",
        "# optimizer -> Adam(lr = 0.0005)"
      ]
    },
    {
      "cell_type": "markdown",
      "metadata": {
        "id": "DuL6taDdx66D"
      },
      "source": [
        "Resnet50"
      ]
    },
    {
      "cell_type": "code",
      "execution_count": null,
      "metadata": {
        "id": "_16ePmlwx1gm"
      },
      "outputs": [],
      "source": [
        "# Data augmentation\n",
        "# resnet_weight.transforms()\n",
        "resnet_transform = transforms.Compose([\n",
        "    transforms.Resize(size = 232),\n",
        "    transforms.ColorJitter(brightness = (0.8, 1.2)),\n",
        "    transforms.RandomHorizontalFlip(p = 0.5),\n",
        "    transforms.RandomRotation(degrees = 15),\n",
        "    transforms.ToTensor(),\n",
        "    transforms.Normalize(mean = [0.485, 0.456, 0.406], std = [0.229, 0.224, 0.225])\n",
        "])\n",
        "\n",
        "resnet_train_dataloader, resnet_val_dataloader, resnet_test_dataloader = model_dataloder(weights = resnet_weight,\n",
        "                                                                                         transform = resnet_transform\n",
        "                                                                                        )"
      ]
    },
    {
      "cell_type": "code",
      "execution_count": null,
      "metadata": {
        "colab": {
          "background_save": true,
          "base_uri": "https://localhost:8080/",
          "height": 725
        },
        "id": "G6fo_AFryAFg",
        "outputId": "740dc36d-12cf-4f69-d321-b6a509fb1660"
      },
      "outputs": [
        {
          "name": "stdout",
          "output_type": "stream",
          "text": [
            "\n",
            "Epoch 1/5\n"
          ]
        },
        {
          "name": "stderr",
          "output_type": "stream",
          "text": [
            "                                                           "
          ]
        },
        {
          "name": "stdout",
          "output_type": "stream",
          "text": [
            "Train loss: 1.0806 | Train accuracy: 75.065%\n",
            "Val loss: 0.7828 | Val accuracy: 81.641%\n"
          ]
        },
        {
          "name": "stderr",
          "output_type": "stream",
          "text": [
            "\r"
          ]
        },
        {
          "ename": "NameError",
          "evalue": "name 'best_model' is not defined",
          "output_type": "error",
          "traceback": [
            "\u001b[0;31m---------------------------------------------------------------------------\u001b[0m",
            "\u001b[0;31mNameError\u001b[0m                                 Traceback (most recent call last)",
            "\u001b[0;32m<ipython-input-38-dd57a70c97ec>\u001b[0m in \u001b[0;36m<cell line: 2>\u001b[0;34m()\u001b[0m\n\u001b[1;32m      1\u001b[0m \u001b[0;31m# Actual training ResNet model\u001b[0m\u001b[0;34m\u001b[0m\u001b[0;34m\u001b[0m\u001b[0m\n\u001b[0;32m----> 2\u001b[0;31m resnet_results = training_loop(model = resnet_model,\n\u001b[0m\u001b[1;32m      3\u001b[0m                                \u001b[0mtrain_dataloader\u001b[0m \u001b[0;34m=\u001b[0m \u001b[0mresnet_train_dataloader\u001b[0m\u001b[0;34m,\u001b[0m\u001b[0;34m\u001b[0m\u001b[0;34m\u001b[0m\u001b[0m\n\u001b[1;32m      4\u001b[0m                                \u001b[0mval_dataloader\u001b[0m \u001b[0;34m=\u001b[0m \u001b[0mresnet_val_dataloader\u001b[0m\u001b[0;34m,\u001b[0m\u001b[0;34m\u001b[0m\u001b[0;34m\u001b[0m\u001b[0m\n\u001b[1;32m      5\u001b[0m                                \u001b[0mdevice\u001b[0m \u001b[0;34m=\u001b[0m \u001b[0mdevice\u001b[0m\u001b[0;34m,\u001b[0m\u001b[0;34m\u001b[0m\u001b[0;34m\u001b[0m\u001b[0m\n",
            "\u001b[0;32m<ipython-input-34-b0f9edc97110>\u001b[0m in \u001b[0;36mtraining_loop\u001b[0;34m(model, train_dataloader, val_dataloader, device, epochs, patience)\u001b[0m\n\u001b[1;32m     51\u001b[0m             \u001b[0;31m# Save the best model (optional, based on your setup)\u001b[0m\u001b[0;34m\u001b[0m\u001b[0;34m\u001b[0m\u001b[0m\n\u001b[1;32m     52\u001b[0m             \u001b[0mmodel_state_dict\u001b[0m \u001b[0;34m=\u001b[0m \u001b[0mmodel\u001b[0m\u001b[0;34m.\u001b[0m\u001b[0mstate_dict\u001b[0m\u001b[0;34m(\u001b[0m\u001b[0;34m)\u001b[0m\u001b[0;34m\u001b[0m\u001b[0;34m\u001b[0m\u001b[0m\n\u001b[0;32m---> 53\u001b[0;31m             \u001b[0mbest_model\u001b[0m\u001b[0;34m.\u001b[0m\u001b[0mload_state_dict\u001b[0m\u001b[0;34m(\u001b[0m\u001b[0mmodel_state_dict\u001b[0m\u001b[0;34m)\u001b[0m\u001b[0;34m\u001b[0m\u001b[0;34m\u001b[0m\u001b[0m\n\u001b[0m\u001b[1;32m     54\u001b[0m         \u001b[0;32melse\u001b[0m\u001b[0;34m:\u001b[0m\u001b[0;34m\u001b[0m\u001b[0;34m\u001b[0m\u001b[0m\n\u001b[1;32m     55\u001b[0m             \u001b[0mnum_no_improvement\u001b[0m \u001b[0;34m+=\u001b[0m \u001b[0;36m1\u001b[0m\u001b[0;34m\u001b[0m\u001b[0;34m\u001b[0m\u001b[0m\n",
            "\u001b[0;31mNameError\u001b[0m: name 'best_model' is not defined"
          ]
        }
      ],
      "source": [
        "# Actual training ResNet model\n",
        "resnet_results = training_loop(model = resnet_model,\n",
        "                               train_dataloader = resnet_train_dataloader,\n",
        "                               val_dataloader = resnet_val_dataloader,\n",
        "                               device = device,\n",
        "                               epochs = 5,\n",
        "                               patience = 5\n",
        "                              )\n"
      ]
    },
    {
      "cell_type": "markdown",
      "metadata": {
        "id": "4jCKUD6VyEl7"
      },
      "source": [
        "Evaluation"
      ]
    },
    {
      "cell_type": "code",
      "execution_count": null,
      "metadata": {
        "id": "RrUPYJwpyDhh"
      },
      "outputs": [],
      "source": [
        "# empty list store labels\n",
        "predict_label_list = []\n",
        "actual_label_list = []\n",
        "\n",
        "# eval mode\n",
        "resnet_model.eval()\n",
        "\n",
        "for images, labels in resnet_test_dataloader:\n",
        "\n",
        "    for label in labels:\n",
        "        label = label.item()\n",
        "        actual_label_list.append(label)\n",
        "\n",
        "    for image in images:\n",
        "        with torch.inference_mode():\n",
        "            image = image.to(device)\n",
        "            # add batch_size and device\n",
        "            image = image.unsqueeze(dim = 0)\n",
        "            # logits\n",
        "            logits = resnet_model(image)\n",
        "            # lables\n",
        "            label = torch.argmax(logits).item()\n",
        "            predict_label_list.append(label)"
      ]
    },
    {
      "cell_type": "markdown",
      "metadata": {
        "id": "PuYv0MYlyIJu"
      },
      "source": [
        "Accuracy score"
      ]
    },
    {
      "cell_type": "code",
      "execution_count": null,
      "metadata": {
        "colab": {
          "base_uri": "https://localhost:8080/"
        },
        "id": "5siS0MDeyKlf",
        "outputId": "804e1e53-51da-4152-bf77-6ea1e2909eae"
      },
      "outputs": [
        {
          "name": "stdout",
          "output_type": "stream",
          "text": [
            "resnet_model's accuracy: 87.0%\n"
          ]
        }
      ],
      "source": [
        "accuracy = accuracy_score(actual_label_list, predict_label_list)\n",
        "\n",
        "print(f\"resnet_model's accuracy: {accuracy*100}%\")"
      ]
    },
    {
      "cell_type": "code",
      "execution_count": null,
      "metadata": {
        "id": "IXOZVkwIntZc"
      },
      "outputs": [],
      "source": []
    }
  ],
  "metadata": {
    "accelerator": "GPU",
    "colab": {
      "gpuType": "T4",
      "provenance": [],
      "authorship_tag": "ABX9TyP8+MqEwC/4Sdu3toBQbSn7",
      "include_colab_link": true
    },
    "kernelspec": {
      "display_name": "Python 3",
      "name": "python3"
    },
    "language_info": {
      "name": "python"
    }
  },
  "nbformat": 4,
  "nbformat_minor": 0
}